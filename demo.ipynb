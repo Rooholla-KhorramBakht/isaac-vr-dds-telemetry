{
 "cells": [
  {
   "cell_type": "code",
   "execution_count": 1,
   "metadata": {},
   "outputs": [],
   "source": [
    "from VR_DDS_Logger_python.dds.telemetry import VRPoseSubscriber\n",
    "import time\n",
    "import rerun as rr\n",
    "import numpy as np\n",
    "from scipy.spatial.transform import Rotation as R\n",
    "from VR_DDS_Logger_python.dds.preprocessors import PoseBasedPreprocessor\n",
    "from VR_DDS_Logger_python.visualization import RerunVisualizer"
   ]
  },
  {
   "cell_type": "code",
   "execution_count": 3,
   "metadata": {},
   "outputs": [
    {
     "name": "stderr",
     "output_type": "stream",
     "text": [
      "[2024-12-26T21:14:52Z INFO  re_sdk::spawn] A process is already listening at this address. Assuming it's a Rerun Viewer. addr=0.0.0.0:9876\n"
     ]
    }
   ],
   "source": [
    "visulizer = RerunVisualizer(app_name=\"RerunVisualizer\")\n",
    "subscriber = VRPoseSubscriber(\"vr_poses\")"
   ]
  },
  {
   "cell_type": "code",
   "execution_count": 4,
   "metadata": {},
   "outputs": [],
   "source": [
    "preprocessor = PoseBasedPreprocessor(subscriber)"
   ]
  },
  {
   "cell_type": "code",
   "execution_count": 5,
   "metadata": {},
   "outputs": [],
   "source": [
    "start = time.time()\n",
    "preprocessor.reset()\n",
    "while time.time()-start < 10:\n",
    "    time.sleep(0.01)\n",
    "    state = preprocessor.getState()\n",
    "    if state is not None:\n",
    "        world_T_head = state['world_T_head']\n",
    "        world_T_left = state['world_T_left']\n",
    "        world_T_right = state['world_T_right']\n",
    "\n",
    "        visulizer.logCoordinateFrame(np.eye(4), '/world')\n",
    "        visulizer.logCoordinateFrame(world_T_head, '/world/head')\n",
    "        visulizer.logCoordinateFrame(world_T_left, '/world/left')\n",
    "        visulizer.logCoordinateFrame(world_T_right, '/world/right')\n",
    "        rr.log(\"left_switch\", rr.Scalar(int(state['left_switch'])))\n",
    "        rr.log(\"right_switch\", rr.Scalar(int(state['right_switch'])))"
   ]
  },
  {
   "cell_type": "code",
   "execution_count": 2,
   "metadata": {},
   "outputs": [],
   "source": [
    "from VR_DDS_Logger_python.dds.telemetry import FlexivStatePublisher\n",
    "from VR_DDS_Logger_python.dds.FlexivState import FlexivStateMsg"
   ]
  },
  {
   "cell_type": "code",
   "execution_count": 3,
   "metadata": {},
   "outputs": [],
   "source": [
    "publisher = FlexivStatePublisher()"
   ]
  },
  {
   "cell_type": "code",
   "execution_count": 13,
   "metadata": {},
   "outputs": [],
   "source": [
    "msg = FlexivStateMsg(\n",
    "    q = 7*[0],\n",
    "    dq = 7*[0],\n",
    "    tau = 7*[0],\n",
    ")\n",
    "publisher.send(msg)"
   ]
  },
  {
   "cell_type": "code",
   "execution_count": null,
   "metadata": {},
   "outputs": [],
   "source": []
  }
 ],
 "metadata": {
  "kernelspec": {
   "display_name": "usr",
   "language": "python",
   "name": "python3"
  },
  "language_info": {
   "codemirror_mode": {
    "name": "ipython",
    "version": 3
   },
   "file_extension": ".py",
   "mimetype": "text/x-python",
   "name": "python",
   "nbconvert_exporter": "python",
   "pygments_lexer": "ipython3",
   "version": "3.10.12"
  }
 },
 "nbformat": 4,
 "nbformat_minor": 2
}
