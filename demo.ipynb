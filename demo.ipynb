{
 "cells": [
  {
   "cell_type": "code",
   "execution_count": 2,
   "metadata": {},
   "outputs": [],
   "source": [
    "from VR_DDS_Logger_python.dds.telemetry import VRPoseSubscriber\n",
    "import time\n",
    "import rerun as rr\n",
    "import numpy as np\n",
    "from scipy.spatial.transform import Rotation as R\n",
    "from VR_DDS_Logger_python.dds.preprocessors import PoseBasedPreprocessor\n",
    "from VR_DDS_Logger_python.visualization import RerunVisualizer"
   ]
  },
  {
   "cell_type": "code",
   "execution_count": 3,
   "metadata": {},
   "outputs": [
    {
     "name": "stderr",
     "output_type": "stream",
     "text": [
      "[2024-12-25T22:14:11Z INFO  re_sdk_comms::server] Hosting a SDK server over TCP at 0.0.0.0:9876. Connect with the Rerun logging SDK.\n",
      "[2024-12-25T22:14:11Z INFO  winit::platform_impl::linux::x11::window] Guessed window scale factor: 1\n",
      "[2024-12-25T22:14:11Z WARN  wgpu_hal::gles::egl] No config found!\n",
      "[2024-12-25T22:14:11Z WARN  wgpu_hal::gles::egl] EGL says it can present to the window but not natively\n",
      "[2024-12-25T22:14:11Z INFO  re_sdk_comms::server] New SDK client connected from: 127.0.0.1:41058\n"
     ]
    },
    {
     "name": "stderr",
     "output_type": "stream",
     "text": [
      "[2024-12-25T22:14:11Z WARN  wgpu_hal::gles::adapter] Max vertex attribute stride unknown. Assuming it is 2048\n",
      "[2024-12-25T22:14:11Z WARN  wgpu_hal::gles::adapter] Max vertex attribute stride unknown. Assuming it is 2048\n",
      "[2024-12-25T22:14:11Z INFO  egui_wgpu] There were 3 available wgpu adapters: {backend: Vulkan, device_type: DiscreteGpu, name: \"NVIDIA GeForce RTX 4090\", driver: \"NVIDIA\", driver_info: \"550.120\", vendor: 0x10DE, device: 0x2684}, {backend: Vulkan, device_type: Cpu, name: \"llvmpipe (LLVM 15.0.7, 256 bits)\", driver: \"llvmpipe\", driver_info: \"Mesa 23.2.1-1ubuntu3.1~22.04.2 (LLVM 15.0.7)\", vendor: 0x10005}, {backend: Gl, device_type: Other, name: \"NVIDIA GeForce RTX 4090/PCIe/SSE2\", driver_info: \"3.3.0 NVIDIA 550.120\", vendor: 0x10DE}\n"
     ]
    }
   ],
   "source": [
    "visulizer = RerunVisualizer(app_name=\"RerunVisualizer\")\n",
    "subscriber = VRPoseSubscriber(\"vr_poses\")"
   ]
  },
  {
   "cell_type": "code",
   "execution_count": 4,
   "metadata": {},
   "outputs": [],
   "source": [
    "preprocessor = PoseBasedPreprocessor(subscriber)"
   ]
  },
  {
   "cell_type": "code",
   "execution_count": 52,
   "metadata": {},
   "outputs": [],
   "source": [
    "start = time.time()\n",
    "preprocessor.reset()\n",
    "while time.time()-start < 10:\n",
    "    time.sleep(0.01)\n",
    "    state = preprocessor.getState()\n",
    "    if state is not None:\n",
    "        world_T_head = state['world_T_head']\n",
    "        world_T_left = state['world_T_left']\n",
    "        world_T_right = state['world_T_right']\n",
    "\n",
    "        visulizer.logCoordinateFrame(np.eye(4), '/world')\n",
    "        visulizer.logCoordinateFrame(world_T_head, '/world/head')\n",
    "        visulizer.logCoordinateFrame(world_T_left, '/world/left')\n",
    "        visulizer.logCoordinateFrame(world_T_right, '/world/right')\n",
    "        rr.log(\"left_switch\", rr.Scalar(int(state['left_switch'])))\n",
    "        rr.log(\"right_switch\", rr.Scalar(int(state['right_switch'])))"
   ]
  }
 ],
 "metadata": {
  "kernelspec": {
   "display_name": "usr",
   "language": "python",
   "name": "python3"
  },
  "language_info": {
   "codemirror_mode": {
    "name": "ipython",
    "version": 3
   },
   "file_extension": ".py",
   "mimetype": "text/x-python",
   "name": "python",
   "nbconvert_exporter": "python",
   "pygments_lexer": "ipython3",
   "version": "3.10.12"
  }
 },
 "nbformat": 4,
 "nbformat_minor": 2
}
